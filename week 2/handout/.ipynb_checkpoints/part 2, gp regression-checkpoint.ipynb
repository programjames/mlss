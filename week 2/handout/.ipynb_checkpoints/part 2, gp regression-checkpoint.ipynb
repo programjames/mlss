{
 "cells": [
  {
   "cell_type": "code",
   "execution_count": 138,
   "id": "083877ea",
   "metadata": {},
   "outputs": [],
   "source": [
    "import numpy as np\n",
    "from scipy.special import logsumexp\n",
    "import matplotlib.pyplot as plt"
   ]
  },
  {
   "cell_type": "code",
   "execution_count": 129,
   "id": "db5d1669",
   "metadata": {},
   "outputs": [],
   "source": [
    "# 2.2.1\n",
    "def RBFKernel(X1, X2, h, sigma):\n",
    "    K = np.zeros((len(X2), len(X1)))\n",
    "    for i in range(len(X1)):\n",
    "        for j in range(len(X2)):\n",
    "            d = X1[i] - X2[j]\n",
    "            K[j, i] = d @ d\n",
    "            \n",
    "    return sigma * np.exp(-K/2/h**2)\n",
    "\n",
    "# 2.2.2\n",
    "def GPRegression(XTrain, yTrain, XTest, gamma, h, sigma):\n",
    "    n = len(XTrain)\n",
    "    \n",
    "    # K(x, x) - kernel over training data.\n",
    "    K = RBFKernel(XTrain, XTrain, h, sigma)\n",
    "    \n",
    "    # Cholesky decomposition.\n",
    "    L = np.linalg.cholesky(K + gamma*np.identity(n))\n",
    "    \n",
    "    # Solves K @ alpha = yTrain\n",
    "    alpha = np.linalg.solve(L.T, np.linalg.solve(L, yTrain))\n",
    "    \n",
    "    # K(x*, x) - kernel between train and test data.\n",
    "    k = RBFKernel(XTrain, XTest, h, sigma)\n",
    "    \n",
    "    # If K @ alpha = yTrain, should have k @ alpha = yTest\n",
    "    f = k @ alpha # mean\n",
    "    \n",
    "    # Compute variance, V = K(x*,x*) - K(x*,x) K(x,x)^-1 K(x,x*)\n",
    "    v = np.linalg.solve(L, k.T) # Note, v.T @ v = k @ K^(-1) @ k.T\n",
    "    V = RBFKernel(XTest, XTest, h, sigma) - v.T @ v\n",
    "    \n",
    "    # Log marginal likelihood.\n",
    "    trace_log = np.sum(np.log(np.diagonal(L)))\n",
    "    p = -0.5*yTrain.T @ alpha - trace_log - n/2 * np.log(2*np.pi)\n",
    "    \n",
    "    return f, V, p\n",
    "\n",
    "def LogMarginalLikelihood(XTrain, yTrain, gamma, h, sigma):\n",
    "    n = len(XTrain)\n",
    "    K = RBFKernel(XTrain, XTrain, h, sigma)\n",
    "    L = np.linalg.cholesky(K + gamma*np.identity(n))\n",
    "    alpha = np.linalg.solve(L.T, np.linalg.solve(L, yTrain))\n",
    "    trace_log = np.sum(np.log(np.diagonal(L)))\n",
    "    \n",
    "    # Ignore the -n/2 * np.log(2*np.pi) portion because it is constant.\n",
    "    return -0.5*yTrain.T @ alpha - trace_log\n",
    "\n",
    "def HyperParameters(XTrain, yTrain, hs, sigmas):\n",
    "    gamma = 0.01 * np.std(yTrain)\n",
    "    best = None\n",
    "    likelihood = 0\n",
    "    for h in hs:\n",
    "        for sigma in sigmas:\n",
    "            l = LogMarginalLikelihood(XTrain, yTrain, gamma, h, sigma)\n",
    "            if best is None or l > likelihood:\n",
    "                best = (h, sigma)\n",
    "                likelihood = l\n",
    "    return gamma, *best\n",
    "\n",
    "\"\"\"\n",
    "XTrain = np.array([[1, 2], [2, 3], [3, 4]])\n",
    "yTrain = np.array([1, 2, 3])\n",
    "XTest = np.array([[10, 9], [2, 4]])\n",
    "\n",
    "hs = np.logspace(-1, 1, 10) * np.std(XTrain)\n",
    "sigmas = np.logspace(-1, 1, 10) * np.std(yTrain)\n",
    "\n",
    "gamma, h, sigma = HyperParameters(XTrain, yTrain, hs, sigmas)\n",
    "GPRegression(XTrain, yTrain, XTest, gamma, h, sigma)\n",
    "\"\"\";"
   ]
  },
  {
   "cell_type": "code",
   "execution_count": 130,
   "id": "488fe931",
   "metadata": {},
   "outputs": [],
   "source": [
    "# Get data.\n",
    "with open(\"concrete.mat\", \"r\") as f:\n",
    "    data = f.read()\n",
    "\n",
    "d = dict()\n",
    "for line in data.split(\"\\n\"):\n",
    "    if \"# name:\" in line:\n",
    "        name = line.split()[-1]\n",
    "        d[name] = []\n",
    "    if \"#\" in line:\n",
    "        continue\n",
    "    if len(line) == 0:\n",
    "        continue\n",
    "    d[name].append([*map(float, line.split())])\n",
    "    if len(d[name][-1]) == 1:\n",
    "        d[name][-1] = d[name][-1][0]\n",
    "d = dict((k, np.array(v)) for k, v in d.items())\n",
    "\n",
    "XTrain = d[\"XTrain\"]\n",
    "yTrain = d[\"yTrain\"]\n",
    "XTest = d[\"XTest\"]\n",
    "yTest= d[\"yTest\"]"
   ]
  },
  {
   "cell_type": "code",
   "execution_count": 131,
   "id": "11428310",
   "metadata": {},
   "outputs": [],
   "source": [
    "gamma, h, sigma = HyperParameters(XTrain, yTrain, hs, sigmas)\n",
    "guess, var, p = GPRegression(XTrain, yTrain, XTest, gamma, h, sigma)"
   ]
  },
  {
   "cell_type": "code",
   "execution_count": 132,
   "id": "327ece4c",
   "metadata": {},
   "outputs": [
    {
     "data": {
      "image/png": "[encoded data removed]",
      "text/plain": [
       "<Figure size 432x288 with 1 Axes>"
      ]
     },
     "metadata": {
      "needs_background": "light"
     },
     "output_type": "display_data"
    }
   ],
   "source": [
    "plt.plot(yTest, yTest, color=\"red\")\n",
    "plt.scatter(yTest, guess)\n",
    "plt.show();"
   ]
  },
  {
   "cell_type": "code",
   "execution_count": 225,
   "id": "faaf4990",
   "metadata": {},
   "outputs": [],
   "source": [
    "# Better HyperParameter finding. Uses a terrible implementation\n",
    "# of gradient descent.\n",
    "def hyper(XTrain, yTrain, g=10, h=100, s=50, eps=[1, 10, 10]):\n",
    "    eps_ = eps[:]\n",
    "    f = lambda g,h,s: LogMarginalLikelihood(XTrain, yTrain, g, h, s)\n",
    "    for i in range(10):\n",
    "        fghs = f(g, h, s)\n",
    "        dg = logsumexp([f(g+0.1, h, s), fghs], b=[1,-1]) - fghs\n",
    "        dh = logsumexp([f(g, h+0.1, s), fghs], b=[1,-1]) - fghs\n",
    "        ds = logsumexp([f(g, h, s+0.1), fghs], b=[1,-1]) - fghs\n",
    "        g += eps[0] * dg\n",
    "        h += eps[1] * dh\n",
    "        s += eps[2] * ds\n",
    "        eps[0] = max(eps_[0], abs(dg))\n",
    "        eps[1] = max(eps_[1], abs(dh))\n",
    "        eps[2] = max(eps_[2], abs(ds))\n",
    "    return g, h, s"
   ]
  },
  {
   "cell_type": "code",
   "execution_count": 226,
   "id": "8ead7fbf",
   "metadata": {},
   "outputs": [],
   "source": [
    "gamma, h, sigma = hyper(XTrain, yTrain)\n",
    "guess, var, p = GPRegression(XTrain, yTrain, XTest, gamma, h, sigma)"
   ]
  },
  {
   "cell_type": "code",
   "execution_count": 228,
   "id": "df7385a4",
   "metadata": {},
   "outputs": [
    {
     "name": "stdout",
     "output_type": "stream",
     "text": [
      "19.196479140186703 92.0685948294522 65.2125045404182\n"
     ]
    }
   ],
   "source": [
    "print(gamma, h, sigma)"
   ]
  },
  {
   "cell_type": "code",
   "execution_count": 227,
   "id": "65a2bd0b",
   "metadata": {},
   "outputs": [
    {
     "data": {
      "image/png": "[encoded data removed]",
      "text/plain": [
       "<Figure size 432x288 with 1 Axes>"
      ]
     },
     "metadata": {
      "needs_background": "light"
     },
     "output_type": "display_data"
    }
   ],
   "source": [
    "plt.plot(yTest, yTest, color=\"red\")\n",
    "plt.scatter(yTest, guess)\n",
    "plt.show();"
   ]
  },
  {
   "cell_type": "code",
   "execution_count": null,
   "id": "4ec1020e",
   "metadata": {},
   "outputs": [],
   "source": []
  }
 ],
 "metadata": {
  "kernelspec": {
   "display_name": "Python 3 (ipykernel)",
   "language": "python",
   "name": "python3"
  },
  "language_info": {
   "codemirror_mode": {
    "name": "ipython",
    "version": 3
   },
   "file_extension": ".py",
   "mimetype": "text/x-python",
   "name": "python",
   "nbconvert_exporter": "python",
   "pygments_lexer": "ipython3",
   "version": "3.10.4"
  }
 },
 "nbformat": 4,
 "nbformat_minor": 5
}
