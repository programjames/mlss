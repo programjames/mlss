{
 "cells": [
  {
   "cell_type": "code",
   "execution_count": 8,
   "id": "29ad2f64",
   "metadata": {},
   "outputs": [],
   "source": [
    "import numpy as np\n",
    "from scipy.io import loadmat"
   ]
  },
  {
   "cell_type": "code",
   "execution_count": 44,
   "id": "961cc2a9",
   "metadata": {},
   "outputs": [],
   "source": [
    "def rbf_kernel(x, y, sigma=1):\n",
    "    return np.exp(-(x-y)**2/2/sigma**2)\n",
    "\n",
    "def MMD(x, y, eps=1e-5):\n",
    "    \"\"\"\n",
    "    x, y - the two measured distributions\n",
    "    eps - smoothing factor, sets to zero if MMD < eps\n",
    "    \"\"\"\n",
    "    t = 0\n",
    "    for k in x:\n",
    "        t += np.sum(rbf_kernel(k, x)) / len(x)**2\n",
    "    for k in y:\n",
    "        t += np.sum(rbf_kernel(k, y)) / len(y)**2\n",
    "    for k in x:\n",
    "        t -= 2 * np.sum(rbf_kernel(k, y)) / len(x) / len(y)\n",
    "    if t < eps ** 2:\n",
    "        return 0\n",
    "    return np.sqrt(t)"
   ]
  },
  {
   "cell_type": "code",
   "execution_count": 45,
   "id": "c8ed958c",
   "metadata": {},
   "outputs": [
    {
     "name": "stdout",
     "output_type": "stream",
     "text": [
      "MMD = 0.0008177625163478465\n"
     ]
    }
   ],
   "source": [
    "p, q = loadmat(\"kernel_2sample_test/data.mat\")[\"data\"].T\n",
    "print(f\"MMD = {MMD(p, q)}\")"
   ]
  },
  {
   "cell_type": "markdown",
   "id": "4b00ff20",
   "metadata": {},
   "source": [
    "The MMD is less than 0.1, so they are the same distribution."
   ]
  }
 ],
 "metadata": {
  "kernelspec": {
   "display_name": "Python 3 (ipykernel)",
   "language": "python",
   "name": "python3"
  },
  "language_info": {
   "codemirror_mode": {
    "name": "ipython",
    "version": 3
   },
   "file_extension": ".py",
   "mimetype": "text/x-python",
   "name": "python",
   "nbconvert_exporter": "python",
   "pygments_lexer": "ipython3",
   "version": "3.10.4"
  }
 },
 "nbformat": 4,
 "nbformat_minor": 5
}
