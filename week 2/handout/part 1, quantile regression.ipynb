{
 "cells": [
  {
   "cell_type": "code",
   "execution_count": 14,
   "id": "bdf620c3",
   "metadata": {},
   "outputs": [],
   "source": [
    "import numpy as np\n",
    "import matplotlib.pyplot as plt\n",
    "from scipy.optimize import linprog"
   ]
  },
  {
   "cell_type": "code",
   "execution_count": 29,
   "id": "f9f8d8ca",
   "metadata": {},
   "outputs": [],
   "source": [
    "xTrain = []\n",
    "yTrain = []\n",
    "with open(\"quantile.mat\", \"r\") as f:\n",
    "    data = f.read()\n",
    "\n",
    "appendX = True\n",
    "appendY = False\n",
    "for line in data.split(\"\\n\"):\n",
    "    if line == \"\":\n",
    "        if appendX:\n",
    "            appendX = False\n",
    "        if appendY:\n",
    "            break\n",
    "        continue\n",
    "    if line[0] == \"#\":\n",
    "        if not appendX and not appendY:\n",
    "            appendY = True\n",
    "        continue\n",
    "    if appendX:\n",
    "        xTrain.append(float(line))\n",
    "    else:\n",
    "        yTrain.append(float(line))\n",
    "\n",
    "x = np.array(xTrain)\n",
    "y = np.array(yTrain)\n",
    "n = len(x)"
   ]
  },
  {
   "cell_type": "code",
   "execution_count": 53,
   "id": "4fd1c926",
   "metadata": {},
   "outputs": [],
   "source": [
    "def regress(tau):\n",
    "    c = np.concatenate([np.ones(n)*tau, np.ones(n)*(1-tau), [0, 0]])\n",
    "    A_eq = np.zeros((n, 2*n+2))\n",
    "    for i in range(n):\n",
    "        A_eq[i, i] = 1\n",
    "        A_eq[i, n+i] = -1\n",
    "        A_eq[i, -2] = 1\n",
    "        A_eq[i, -1] = x[i]\n",
    "        \n",
    "    bounds = [(0, None) for i in range(2*n)]\n",
    "    bounds.append((None,None))\n",
    "    bounds.append((None,None))\n",
    "    \n",
    "    return linprog(c, A_eq=A_eq, b_eq=y, bounds=bounds)[\"x\"][-2:]\n",
    "\n",
    "def rho(tau, z):\n",
    "    if z < 0:\n",
    "        return z*tau - z\n",
    "    return z*tau\n",
    "\n",
    "def quantile(tau):\n",
    "    beta = regress(tau)\n",
    "    return beta, lambda x: beta[0] + x*beta[1]"
   ]
  },
  {
   "cell_type": "code",
   "execution_count": 66,
   "id": "0fa5b9e0",
   "metadata": {},
   "outputs": [
    {
     "name": "stdout",
     "output_type": "stream",
     "text": [
      "For tau=0.25, beta=[-0.99, 0.22], i.e. we get the line y=-0.99+0.22*x.\n",
      "For tau=0.50, beta=[-0.33, 0.24], i.e. we get the line y=-0.33+0.24*x.\n",
      "For tau=0.75, beta=[0.45, 0.22], i.e. we get the line y=0.45+0.22*x.\n"
     ]
    },
    {
     "data": {
      "image/png": "[encoded data removed]",
      "text/plain": [
       "<Figure size 432x288 with 1 Axes>"
      ]
     },
     "metadata": {
      "needs_background": "light"
     },
     "output_type": "display_data"
    }
   ],
   "source": [
    "plt.scatter(xTrain, yTrain)\n",
    "for tau in [0.25, 0.5, 0.75]:\n",
    "    beta, f = quantile(tau)\n",
    "    plt.plot([0, 10], [f(0), f(10)])\n",
    "    print(f\"For tau={tau:.2f}, beta=[{beta[0]:.2f}, {beta[1]:.2f}], \"+\n",
    "          f\"i.e. we get the line y={beta[0]:.2f}+{beta[1]:.2f}*x.\")\n",
    "plt.show()"
   ]
  },
  {
   "cell_type": "code",
   "execution_count": null,
   "id": "245d8ada",
   "metadata": {},
   "outputs": [],
   "source": []
  }
 ],
 "metadata": {
  "kernelspec": {
   "display_name": "Python 3 (ipykernel)",
   "language": "python",
   "name": "python3"
  },
  "language_info": {
   "codemirror_mode": {
    "name": "ipython",
    "version": 3
   },
   "file_extension": ".py",
   "mimetype": "text/x-python",
   "name": "python",
   "nbconvert_exporter": "python",
   "pygments_lexer": "ipython3",
   "version": "3.10.4"
  }
 },
 "nbformat": 4,
 "nbformat_minor": 5
}
