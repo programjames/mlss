{
  "cells": [
    {
      "cell_type": "markdown",
      "metadata": {
        "id": "dUZhvN3ieu-v"
      },
      "source": [
        "# Saliency Map for NLP (heatmap) v1.1\n",
        "\n",
        "We begin with learning about how to generate heatmaps to visualize a per token model explanation.  We will be using the package `thermostat` which provides a score per token.  Later in the homework you will investigate creating that score yourself by computing the gradients."
      ]
    },
    {
      "cell_type": "code",
      "execution_count": 1,
      "metadata": {
        "id": "MRYLeHaxeu-0"
      },
      "outputs": [],
      "source": [
        "#remove the %%capture line if you want to see installation info\n",
        "%%capture\n",
        "\n",
        "!pip install transformers;\n",
        "!pip install sentencepiece;\n",
        "!pip install thermostat-datasets;"
      ]
    },
    {
      "cell_type": "code",
      "execution_count": 2,
      "metadata": {
        "id": "4luJmCcYeu-3"
      },
      "outputs": [],
      "source": [
        "import thermostat\n",
        "\n",
        "import pandas as pd\n",
        "import numpy as np\n",
        "\n",
        "import matplotlib.pyplot as plt\n",
        "import matplotlib as mpl\n",
        "from matplotlib import cm"
      ]
    },
    {
      "cell_type": "markdown",
      "metadata": {
        "id": "zeu5P-D8eu-4"
      },
      "source": [
        "## Load dataset\n",
        "Use the `load` function in `thermostat` to load a Thermostats dataset. The parameter is an identifier string with three basic coordinates: dataset, model, and explainer. In the below cell, the dataset is IMDB (sentiment analysis on movie reviews), the model is a BERT model fine-tuned on the IMDb data, the explanations are generated using a (Layer) Integrated Gradients explainer."
      ]
    },
    {
      "cell_type": "code",
      "execution_count": 3,
      "metadata": {
        "id": "mzAPBubteu-4",
        "colab": {
          "base_uri": "https://localhost:8080/"
        },
        "outputId": "96d3d4d5-ef79-4754-b7b0-c52bd48de73f"
      },
      "outputs": [
        {
          "output_type": "stream",
          "name": "stderr",
          "text": [
            "WARNING:datasets.builder:Reusing dataset dataset (/root/.cache/huggingface/datasets/dataset/imdb-bert-lig/1.0.2/0cbe93e1fbe5b8ed0217559442d8b49a80fd4c2787185f2d7940817c67d8707b)\n"
          ]
        },
        {
          "output_type": "stream",
          "name": "stdout",
          "text": [
            "Loading Thermostat configuration: imdb-bert-lig\n"
          ]
        }
      ],
      "source": [
        "data = thermostat.load(\"imdb-bert-lig\")"
      ]
    },
    {
      "cell_type": "markdown",
      "metadata": {
        "id": "7xKX996ieu-4"
      },
      "source": [
        "Each instance in the dataset has its index, attributions, true label, and predicted label by the model."
      ]
    },
    {
      "cell_type": "code",
      "execution_count": 4,
      "metadata": {
        "id": "DZxpI96Teu-5",
        "colab": {
          "base_uri": "https://localhost:8080/"
        },
        "outputId": "cb85f058-1da0-45ee-d3ed-7ed155be66e8"
      },
      "outputs": [
        {
          "output_type": "stream",
          "name": "stdout",
          "text": [
            "Index: 250\n",
            "Attributions (first 5): [0.0, 0.2166113704442978, 0.034326110035181046, 0.1554376184940338, 0.06493246555328369]\n",
            "True label: pos\n",
            "Predicted label: pos\n"
          ]
        }
      ],
      "source": [
        "instance = data[250]\n",
        "\n",
        "print(f'Index: {instance.idx}')\n",
        "print(f'Attributions (first 5): {instance.attributions[:5]}')\n",
        "print(f'True label: {instance.true_label}')\n",
        "print(f'Predicted label: {instance.predicted_label}')"
      ]
    },
    {
      "cell_type": "markdown",
      "metadata": {
        "id": "mYrfYWdAeu-6"
      },
      "source": [
        "## Visualization Interpretability\n",
        "The `explanation` attribute of the instance stores a tuple-based heatmap with the token, the attribution, and the token index as elements."
      ]
    },
    {
      "cell_type": "code",
      "execution_count": 5,
      "metadata": {
        "id": "Gqn3om7-eu-7",
        "colab": {
          "base_uri": "https://localhost:8080/"
        },
        "outputId": "c0877dff-d0a4-4d59-a943-95a1f2a25fa3"
      },
      "outputs": [
        {
          "output_type": "stream",
          "name": "stdout",
          "text": [
            "('[CLS]', 0.0, 0)\n",
            "('this', 0.2166113704442978, 1)\n",
            "('movie', 0.034326110035181046, 2)\n",
            "('is', 0.1554376184940338, 3)\n",
            "('a', 0.06493246555328369, 4)\n"
          ]
        }
      ],
      "source": [
        "for tup in instance.explanation[:5]:\n",
        "  print(tup)"
      ]
    },
    {
      "cell_type": "markdown",
      "source": [
        "The `thermostat` package has a `render()` function that can visualize the attributions of the instance as a heatmap. Unfortunately due to its incompatibility with Google colab, we cannot use it here. So, we have a `render()` function on our own that visualizes the heatmap."
      ],
      "metadata": {
        "id": "QCwK8aVH4Vnt"
      }
    },
    {
      "cell_type": "code",
      "source": [
        "def visualize(instance):\n",
        "    word2Attr = {tup[0]: tup[1] for tup in instance.explanation}\n",
        "    sentence = list(word2Attr.keys())\n",
        "    attrs = list(word2Attr.values())\n",
        "\n",
        "    df = pd.DataFrame(sentence)\n",
        "\n",
        "    max_attr = max(attrs)\n",
        "    min_attr = min(attrs)\n",
        "\n",
        "    cmap = plt.get_cmap(\"viridis\")\n",
        "    norm = mpl.colors.Normalize(vmin = min_attr, vmax=min_attr + (max_attr - min_attr) * 1.2)\n",
        "    scalarMap = cm.ScalarMappable(norm=norm, cmap=cmap)\n",
        "\n",
        "    def word2Color(word):\n",
        "        rgb = scalarMap.to_rgba(word2Attr[word])[:-1]\n",
        "        code = round(255 * rgb[0]) * 256**2 + round(255 * rgb[1]) * 256 + round(255 * rgb[2])\n",
        "        return 'background-color: #%s' % (hex(code)[2:])\n",
        "\n",
        "    df = df.T\n",
        "    return df.style.hide_index().hide_columns().applymap(lambda word: word2Color(word))\n"
      ],
      "metadata": {
        "id": "jtUnJTAWr7RT"
      },
      "execution_count": 6,
      "outputs": []
    },
    {
      "cell_type": "code",
      "source": [
        "visualize(data[429])"
      ],
      "metadata": {
        "id": "LXn35NgSmk9a",
        "colab": {
          "base_uri": "https://localhost:8080/",
          "height": 68
        },
        "outputId": "0c9e6901-0110-4dd3-9b58-787676ff02a3"
      },
      "execution_count": 7,
      "outputs": [
        {
          "output_type": "execute_result",
          "data": {
            "text/plain": [
              "<pandas.io.formats.style.Styler at 0x7f3c18315050>"
            ],
            "text/html": [
              "<style type=\"text/css\">\n",
              "#T_ce190_row0_col0, #T_ce190_row0_col38 {\n",
              "  background-color: #414487;\n",
              "}\n",
              "#T_ce190_row0_col1 {\n",
              "  background-color: #90d743;\n",
              "}\n",
              "#T_ce190_row0_col2, #T_ce190_row0_col8 {\n",
              "  background-color: #482173;\n",
              "}\n",
              "#T_ce190_row0_col3 {\n",
              "  background-color: #3c4f8a;\n",
              "}\n",
              "#T_ce190_row0_col4 {\n",
              "  background-color: #3f4788;\n",
              "}\n",
              "#T_ce190_row0_col5, #T_ce190_row0_col16 {\n",
              "  background-color: #424186;\n",
              "}\n",
              "#T_ce190_row0_col6 {\n",
              "  background-color: #3b518b;\n",
              "}\n",
              "#T_ce190_row0_col7 {\n",
              "  background-color: #472d7b;\n",
              "}\n",
              "#T_ce190_row0_col9 {\n",
              "  background-color: #463480;\n",
              "}\n",
              "#T_ce190_row0_col10 {\n",
              "  background-color: #414287;\n",
              "}\n",
              "#T_ce190_row0_col11 {\n",
              "  background-color: #46327e;\n",
              "}\n",
              "#T_ce190_row0_col12 {\n",
              "  background-color: #482071;\n",
              "}\n",
              "#T_ce190_row0_col13, #T_ce190_row0_col15 {\n",
              "  background-color: #3f4889;\n",
              "}\n",
              "#T_ce190_row0_col14, #T_ce190_row0_col27 {\n",
              "  background-color: #3e4a89;\n",
              "}\n",
              "#T_ce190_row0_col17 {\n",
              "  background-color: #482677;\n",
              "}\n",
              "#T_ce190_row0_col18 {\n",
              "  background-color: #443a83;\n",
              "}\n",
              "#T_ce190_row0_col19 {\n",
              "  background-color: #2c718e;\n",
              "}\n",
              "#T_ce190_row0_col20 {\n",
              "  background-color: #46337f;\n",
              "}\n",
              "#T_ce190_row0_col21 {\n",
              "  background-color: #46307e;\n",
              "}\n",
              "#T_ce190_row0_col22 {\n",
              "  background-color: #404588;\n",
              "}\n",
              "#T_ce190_row0_col23 {\n",
              "  background-color: #433d84;\n",
              "}\n",
              "#T_ce190_row0_col24 {\n",
              "  background-color: #443b84;\n",
              "}\n",
              "#T_ce190_row0_col25 {\n",
              "  background-color: #365c8d;\n",
              "}\n",
              "#T_ce190_row0_col26 {\n",
              "  background-color: #450457;\n",
              "}\n",
              "#T_ce190_row0_col28 {\n",
              "  background-color: #3d4d8a;\n",
              "}\n",
              "#T_ce190_row0_col29 {\n",
              "  background-color: #5cc863;\n",
              "}\n",
              "#T_ce190_row0_col30 {\n",
              "  background-color: #440154;\n",
              "}\n",
              "#T_ce190_row0_col31 {\n",
              "  background-color: #39558c;\n",
              "}\n",
              "#T_ce190_row0_col32 {\n",
              "  background-color: #48c16e;\n",
              "}\n",
              "#T_ce190_row0_col33 {\n",
              "  background-color: #472e7c;\n",
              "}\n",
              "#T_ce190_row0_col34 {\n",
              "  background-color: #25ac82;\n",
              "}\n",
              "#T_ce190_row0_col35 {\n",
              "  background-color: #2a768e;\n",
              "}\n",
              "#T_ce190_row0_col36 {\n",
              "  background-color: #2f6c8e;\n",
              "}\n",
              "#T_ce190_row0_col37 {\n",
              "  background-color: #24aa83;\n",
              "}\n",
              "</style>\n",
              "<table id=\"T_ce190_\" class=\"dataframe\">\n",
              "  <thead>\n",
              "  </thead>\n",
              "  <tbody>\n",
              "    <tr>\n",
              "      <td id=\"T_ce190_row0_col0\" class=\"data row0 col0\" >[CLS]</td>\n",
              "      <td id=\"T_ce190_row0_col1\" class=\"data row0 col1\" >amazing</td>\n",
              "      <td id=\"T_ce190_row0_col2\" class=\"data row0 col2\" >movie</td>\n",
              "      <td id=\"T_ce190_row0_col3\" class=\"data row0 col3\" >.</td>\n",
              "      <td id=\"T_ce190_row0_col4\" class=\"data row0 col4\" >some</td>\n",
              "      <td id=\"T_ce190_row0_col5\" class=\"data row0 col5\" >of</td>\n",
              "      <td id=\"T_ce190_row0_col6\" class=\"data row0 col6\" >the</td>\n",
              "      <td id=\"T_ce190_row0_col7\" class=\"data row0 col7\" >script</td>\n",
              "      <td id=\"T_ce190_row0_col8\" class=\"data row0 col8\" >writing</td>\n",
              "      <td id=\"T_ce190_row0_col9\" class=\"data row0 col9\" >could</td>\n",
              "      <td id=\"T_ce190_row0_col10\" class=\"data row0 col10\" >have</td>\n",
              "      <td id=\"T_ce190_row0_col11\" class=\"data row0 col11\" >been</td>\n",
              "      <td id=\"T_ce190_row0_col12\" class=\"data row0 col12\" >better</td>\n",
              "      <td id=\"T_ce190_row0_col13\" class=\"data row0 col13\" >(</td>\n",
              "      <td id=\"T_ce190_row0_col14\" class=\"data row0 col14\" >cl</td>\n",
              "      <td id=\"T_ce190_row0_col15\" class=\"data row0 col15\" >##iche</td>\n",
              "      <td id=\"T_ce190_row0_col16\" class=\"data row0 col16\" >##d</td>\n",
              "      <td id=\"T_ce190_row0_col17\" class=\"data row0 col17\" >language</td>\n",
              "      <td id=\"T_ce190_row0_col18\" class=\"data row0 col18\" >)</td>\n",
              "      <td id=\"T_ce190_row0_col19\" class=\"data row0 col19\" >joyce</td>\n",
              "      <td id=\"T_ce190_row0_col20\" class=\"data row0 col20\" >'</td>\n",
              "      <td id=\"T_ce190_row0_col21\" class=\"data row0 col21\" >s</td>\n",
              "      <td id=\"T_ce190_row0_col22\" class=\"data row0 col22\" >\"</td>\n",
              "      <td id=\"T_ce190_row0_col23\" class=\"data row0 col23\" >dead</td>\n",
              "      <td id=\"T_ce190_row0_col24\" class=\"data row0 col24\" >is</td>\n",
              "      <td id=\"T_ce190_row0_col25\" class=\"data row0 col25\" >all</td>\n",
              "      <td id=\"T_ce190_row0_col26\" class=\"data row0 col26\" >##uded</td>\n",
              "      <td id=\"T_ce190_row0_col27\" class=\"data row0 col27\" >to</td>\n",
              "      <td id=\"T_ce190_row0_col28\" class=\"data row0 col28\" >throughout</td>\n",
              "      <td id=\"T_ce190_row0_col29\" class=\"data row0 col29\" >beautiful</td>\n",
              "      <td id=\"T_ce190_row0_col30\" class=\"data row0 col30\" >scenery</td>\n",
              "      <td id=\"T_ce190_row0_col31\" class=\"data row0 col31\" >and</td>\n",
              "      <td id=\"T_ce190_row0_col32\" class=\"data row0 col32\" >great</td>\n",
              "      <td id=\"T_ce190_row0_col33\" class=\"data row0 col33\" >acting</td>\n",
              "      <td id=\"T_ce190_row0_col34\" class=\"data row0 col34\" >very</td>\n",
              "      <td id=\"T_ce190_row0_col35\" class=\"data row0 col35\" >poetic</td>\n",
              "      <td id=\"T_ce190_row0_col36\" class=\"data row0 col36\" >highly</td>\n",
              "      <td id=\"T_ce190_row0_col37\" class=\"data row0 col37\" >recommend</td>\n",
              "      <td id=\"T_ce190_row0_col38\" class=\"data row0 col38\" >[SEP]</td>\n",
              "    </tr>\n",
              "  </tbody>\n",
              "</table>\n"
            ]
          },
          "metadata": {},
          "execution_count": 7
        }
      ]
    },
    {
      "cell_type": "markdown",
      "source": [
        "# Analyzing DeBerta\n",
        "\n",
        "We're going to load the DeBerta model to see how to generate heatmaps from a model instead of using pregenerated model outputs.  \n",
        "\n",
        "The basic plan we will be following is detailed below.\n",
        "\n",
        "1.  We will be loading the model and corresponding tokenizer.  Note that the model and tokenizers go hand in hand.\n",
        "1.  We will compute the gradients of the model and write up a description of what it means.\n",
        "1.  We will recreate the above renderer to be able to display the utility of each word.\n",
        "1. We will be examining some inconsistencies or failures of current language models.\n",
        "1. We will ask you to see if you can discover any other inconsistencies yourself. "
      ],
      "metadata": {
        "id": "-eK-u7YyL-UQ"
      }
    },
    {
      "cell_type": "code",
      "source": [
        "# find the share link of the file/folder on Google Drive\n",
        "# https://drive.google.com/file/d/1DvLcRGqp9QDKeb2-atsbKsBadNPDMr1k/view?usp=sharing\n",
        "\n",
        "# extract the ID of the file\n",
        "file_id = \"1DvLcRGqp9QDKeb2-atsbKsBadNPDMr1k\"\n",
        "\n",
        "!gdown \"$file_id\""
      ],
      "metadata": {
        "id": "VcPeaMkF3QrV",
        "colab": {
          "base_uri": "https://localhost:8080/"
        },
        "outputId": "9d5a65ec-47db-4a47-b5cf-028920ef23d6"
      },
      "execution_count": 8,
      "outputs": [
        {
          "output_type": "stream",
          "name": "stdout",
          "text": [
            "Downloading...\n",
            "From: https://drive.google.com/uc?id=1DvLcRGqp9QDKeb2-atsbKsBadNPDMr1k\n",
            "To: /content/deberta-v3-large_1e-05_16_2.pkl\n",
            "100% 1.74G/1.74G [00:09<00:00, 181MB/s]\n"
          ]
        }
      ]
    },
    {
      "cell_type": "code",
      "source": [
        "from transformers import AutoTokenizer, AutoModelForSequenceClassification, AutoConfig\n",
        "import matplotlib.pyplot as plt\n",
        "import numpy as np\n",
        "import torch\n",
        "\n",
        "_ = torch.manual_seed(0)"
      ],
      "metadata": {
        "id": "sxMW_roYkZnq"
      },
      "execution_count": 9,
      "outputs": []
    },
    {
      "cell_type": "code",
      "source": [
        "# Helper functions to load the model.\n",
        "def load_model(model_name, model_path=None, ngpus=0):\n",
        "    model_file = torch.load(model_path)\n",
        "    config = AutoConfig.from_pretrained(model_name, num_labels=1)\n",
        "    model = AutoModelForSequenceClassification.from_pretrained(model_name, config=config, state_dict=model_file)\n",
        "\n",
        "    return model\n",
        "\n",
        "# Helper functions to load the tokenizer.\n",
        "def load_tokenizer(model_name):\n",
        "    tokenizer = AutoTokenizer.from_pretrained(model_name)\n",
        "    return tokenizer"
      ],
      "metadata": {
        "id": "G18rHmPhkca4"
      },
      "execution_count": 10,
      "outputs": []
    },
    {
      "cell_type": "code",
      "source": [
        "def tokenize_sentences(tokenizer, sentences, max_length=512):\n",
        "    \"\"\"\n",
        "    Function that takes in and tokenizes the sentences.\n",
        "\n",
        "    Returns\n",
        "        input ids: \n",
        "            The ids of the tokenized versions of the words.  This is usually\n",
        "            byte pair encodings (BPE).\n",
        "        attention mask: \n",
        "            Signifies which of the tokens from the input ids are valid for processings.\n",
        "            The remaining tokens will not affect the output or gradients.\n",
        "        token type ids: \n",
        "            Used to differentiate if tokens represent different things\n",
        "            such as in the context of Question Answering questions will have type 0 \n",
        "            and answers will have type 1.\n",
        "            Depending on the model this might be the value None.\n",
        "    \"\"\"\n",
        "    # ========== v Your Code Here v ========== #\n",
        "    #TODO: convert the sentences into the input ids and attention mask.\n",
        "    # If you're stuck please do check out the hugging face tutorials on this topic: \n",
        "    # https://huggingface.co/docs/transformers/preprocessing#preprocess\n",
        "    d = tokenizer(sentences, padding=True, truncation=True, max_length=max_length)\n",
        "    input_ids = torch.Tensor(d[\"input_ids\"]).int()\n",
        "    attention_mask = torch.Tensor(d[\"attention_mask\"]).int()\n",
        "    token_type_ids = torch.Tensor(d[\"token_type_ids\"]).int()\n",
        "    return input_ids, attention_mask, token_type_ids\n",
        "\n",
        "    # ========== ^ Your Code Here ^ ========== #"
      ],
      "metadata": {
        "id": "UMEnKJoCH9E8"
      },
      "execution_count": 11,
      "outputs": []
    },
    {
      "cell_type": "code",
      "source": [
        "def print_utility(sequences, utilities):\n",
        "    for sequence, utility in zip(sequences, utilities):\n",
        "        print(f'\"{sequence}\" has utility {utility}')"
      ],
      "metadata": {
        "id": "Ya4p2cLhH6u0"
      },
      "execution_count": 12,
      "outputs": []
    },
    {
      "cell_type": "code",
      "source": [
        "#Defining arguments for loading the model\n",
        "# Note that if you try other models \n",
        "# you may need to change some of the code to get it to work.\n",
        "model_name = \"microsoft/deberta-v3-large\"\n",
        "model_path = \"/content/deberta-v3-large_1e-05_16_2.pkl\"\n",
        "# model_name= \"distilbert-base-uncased-finetuned-sst-2-english\"\n",
        "\n",
        "max_length = 64\n",
        "num_gpus = 0"
      ],
      "metadata": {
        "id": "LwYLTqumkf2e"
      },
      "execution_count": 13,
      "outputs": []
    },
    {
      "cell_type": "code",
      "source": [
        "#Loading the model\n",
        "util_model = load_model(model_name, model_path, num_gpus)\n",
        "_ = util_model.eval()\n",
        "\n",
        "tokenizer = load_tokenizer(model_name)"
      ],
      "metadata": {
        "id": "hnZiAmbwkieL",
        "colab": {
          "base_uri": "https://localhost:8080/"
        },
        "outputId": "2c3bd300-78db-47b5-b1c6-9d93eb721b0c"
      },
      "execution_count": 14,
      "outputs": [
        {
          "output_type": "stream",
          "name": "stderr",
          "text": [
            "Special tokens have been added in the vocabulary, make sure the associated word embeddings are fine-tuned or trained.\n",
            "/usr/local/lib/python3.7/dist-packages/transformers/convert_slow_tokenizer.py:435: UserWarning: The sentencepiece tokenizer that you are converting to a fast tokenizer uses the byte fallback option which is not implemented in the fast tokenizers. In practice this means that the fast version of the tokenizer can produce unknown tokens whereas the sentencepiece version would have converted these unknown tokens into a sequence of byte tokens matching the original piece of text.\n",
            "  \"The sentencepiece tokenizer that you are converting to a fast tokenizer uses the byte fallback option\"\n",
            "Special tokens have been added in the vocabulary, make sure the associated word embeddings are fine-tuned or trained.\n"
          ]
        }
      ]
    },
    {
      "cell_type": "markdown",
      "source": [
        "## Measuring Utility"
      ],
      "metadata": {
        "id": "qxaO_FqS4eNA"
      }
    },
    {
      "cell_type": "code",
      "source": [
        "#Sample sentences and their utility values as predicted by the model (the utility value is simply the model output/logit)\n",
        "sentences = [\"A meteor hit the Earth and Earth exploded.\", \n",
        "             \"A meteor wiped out all life on Earth.\", \n",
        "             \"I found a cure to all diseases.\", \n",
        "             \"I killed 1000 people.\"]\n",
        "\n",
        "input_ids, input_mask, _ = tokenize_sentences(tokenizer=tokenizer, sentences=sentences, max_length=max_length)\n",
        "with torch.no_grad():\n",
        "    # ========== v Your Code Here v ========== #\n",
        "    # TODO: get the utilities from the model.\n",
        "    # Note that the util_model takes in tokens as it's first position arg and has a keyword arg called \"attention_mask\".\n",
        "    utilities = util_model(input_ids, attention_mask=input_mask).logits.squeeze()\n",
        "    # ========== ^ Your Code Here ^ ========== #\n",
        "    \n",
        "\n",
        "print_utility(sentences, utilities)"
      ],
      "metadata": {
        "id": "IZzE3HVhknIS",
        "colab": {
          "base_uri": "https://localhost:8080/"
        },
        "outputId": "91115233-1064-49e9-d671-160909709b8a"
      },
      "execution_count": 15,
      "outputs": [
        {
          "output_type": "stream",
          "name": "stdout",
          "text": [
            "\"A meteor hit the Earth and Earth exploded.\" has utility -12.610421180725098\n",
            "\"A meteor wiped out all life on Earth.\" has utility -12.294509887695312\n",
            "\"I found a cure to all diseases.\" has utility 7.310383319854736\n",
            "\"I killed 1000 people.\" has utility -7.825226783752441\n"
          ]
        }
      ]
    },
    {
      "cell_type": "markdown",
      "source": [
        "# Computing the Gradient\n"
      ],
      "metadata": {
        "id": "txhTF2Vmh_SG"
      }
    },
    {
      "cell_type": "code",
      "source": [
        "# Getting the gradients for the input words gives us \n",
        "# the best estimate of the utility for a given word being inputted.\n",
        "# Getting the gradients with hugging face is rather complex so we have provided\n",
        "# the functions here as a reference.\n",
        "def _register_embedding_list_hook(model, embeddings_list):\n",
        "    def forward_hook(module, inputs, output):\n",
        "        embeddings_list.append(output.squeeze(0).clone().cpu().detach().numpy())\n",
        "    embedding_layer = model.deberta.embeddings.word_embeddings\n",
        "    handle = embedding_layer.register_forward_hook(forward_hook)\n",
        "    return handle\n",
        "\n",
        "def _register_embedding_gradient_hooks(model, embeddings_gradients):\n",
        "    def hook_layers(module, grad_in, grad_out):\n",
        "        embeddings_gradients.append(grad_out[0])\n",
        "    embedding_layer = model.deberta.embeddings.word_embeddings\n",
        "    hook = embedding_layer.register_backward_hook(hook_layers)\n",
        "    return hook\n",
        "\n",
        "# You will be using this function below to get the gradients.\n",
        "def get_saliency_map(model, input_ids, token_type_ids, input_mask):\n",
        "    torch.enable_grad()\n",
        "    model.eval()\n",
        "    embeddings_list = []\n",
        "    handle = _register_embedding_list_hook(model, embeddings_list)\n",
        "    embeddings_gradients = []\n",
        "    hook = _register_embedding_gradient_hooks(model, embeddings_gradients)\n",
        "\n",
        "    model.zero_grad()\n",
        "    # ========== v Your Code Here v ========== #\n",
        "    # TODO: \n",
        "    # The utility is simply the model logit (Since we set num_labels=1 in our AutoConfig,\n",
        "    # there is only one logit). You will need to use .detach().\n",
        "    # Call .backward() on the model logit, which will give you the gradients\n",
        "    # with respect to the predicted labels.\n",
        "    logit = model(input_ids, attention_mask=input_mask).logits\n",
        "    utility = logit.detach().squeeze().numpy()\n",
        "    logit.sum().backward()\n",
        "\n",
        "    # ========== ^ Your Code Here ^ ========== #\n",
        "\n",
        "    handle.remove()\n",
        "    hook.remove()\n",
        "\n",
        "    saliency_grad = embeddings_gradients[0].detach().cpu().numpy()        \n",
        "    saliency_grad = np.sum(saliency_grad[0] * embeddings_list[0], axis=-1)\n",
        "    norm = np.linalg.norm(saliency_grad, ord=1)\n",
        "    saliency_grad = [e / norm for e in saliency_grad]\n",
        "    \n",
        "    return saliency_grad"
      ],
      "metadata": {
        "id": "C0ElLxF7rL5X"
      },
      "execution_count": 16,
      "outputs": []
    },
    {
      "cell_type": "markdown",
      "source": [
        "#### TODO by you\n",
        "*  Please write equation for computing the gradient of the loss (L2 loss) with respect to the weights of the last layer.  This is a general equation not specific to any architecture or model.\n",
        "* Expanding on the above how does the equation change if I tell you that the weights are a convolution kernel? the weights are a linear operator? \n",
        "*  Please describe what the gradients of the loss with respect to the inputs represents.\n",
        "*  What does the does the gradient of the loss with respect to the input represent when you take the negative of the loss?"
      ],
      "metadata": {
        "id": "slqoBYDkbl2f"
      }
    },
    {
      "cell_type": "markdown",
      "source": [
        "- We will take the L2 loss as\n",
        "$$L = \\frac{1}{2}\\sum (l_i-y_i)^2$$\n",
        "\n",
        "where $l_i$ are the various logits, satisfying $l = Wx$ where $W$ are the weights of the last layer, and $x$ the features right before the output layer. We find\n",
        "\n",
        "$$\\nabla L = (Wx-y)x^T = Wxx^T-yx^T.$$\n",
        "\n",
        "- If the weights are a convolution kernel, then $Wxx^T$ will be zero except within the kernel, so we will get a matrix with bandwidth equal to the kernel size, minus $yx^T$. If it is a linear operator, that doesn't tell us anything new as all matrices are linear operators. We do know however, that the gradient will be smaller the closer $Wx$ is to $y$.\n",
        "- The gradient with respect to the inputs, $x$, is\n",
        "$$\\nabla L = W^T(Wx-y) = W^T(l - y)$$\n",
        "This essentially represents the difference between the logits and correct outputs, projected backwards through the model.\n",
        "- When you take the negative of the loss, it's what you want to add to $x$ to correct the outputs."
      ],
      "metadata": {
        "id": "gnNnBVZacT7q"
      }
    },
    {
      "cell_type": "code",
      "source": [
        "saliency_maps = []\n",
        "# ========== v Your Code Here v ========== #\n",
        "# TODO: Get a saliency map for every sentence by calling the \n",
        "# provided saliency_map function.\n",
        "saliency_maps = get_saliency_map(util_model, input_ids, _, input_mask)\n",
        "# ========== ^ Your Code Here ^ ========== #"
      ],
      "metadata": {
        "id": "UCusvydNrUd8",
        "colab": {
          "base_uri": "https://localhost:8080/"
        },
        "outputId": "5daf3945-0226-49e6-bfa5-a1928ced1ef5"
      },
      "execution_count": 17,
      "outputs": [
        {
          "output_type": "stream",
          "name": "stderr",
          "text": [
            "/usr/local/lib/python3.7/dist-packages/torch/nn/modules/module.py:1053: UserWarning: Using a non-full backward hook when the forward contains multiple autograd Nodes is deprecated and will be removed in future versions. This hook will be missing some grad_input. Please use register_full_backward_hook to get the documented behavior.\n",
            "  warnings.warn(\"Using a non-full backward hook when the forward contains multiple autograd Nodes \"\n"
          ]
        }
      ]
    },
    {
      "cell_type": "markdown",
      "source": [
        "After loading and playing with the model we will now create another render function to display the utility scores as we did above."
      ],
      "metadata": {
        "id": "1GnJkusfkr3-"
      }
    },
    {
      "cell_type": "code",
      "source": [
        "def visualize(tokens, saliency_map):\n",
        "    # ========== v Your Code Here v ========== #\n",
        "    # TODO: \n",
        "    # Write a function to visualize the tokens and the saliency map\n",
        "    # overlayed on top the tokens.  Feel free to use the previous visualize \n",
        "    # function as a reference for the function you'll write below.\n",
        "    df = pd.DataFrame(tokens)\n",
        "    word2Attr = dict(zip(tokens, saliency_map))\n",
        "\n",
        "    min_attr = min(saliency_map)\n",
        "    max_attr = max(saliency_map)\n",
        "    cmap = plt.get_cmap(\"viridis\")\n",
        "    norm = mpl.colors.Normalize(vmin = min_attr, vmax=min_attr + (max_attr - min_attr) * 1.2)\n",
        "    scalarMap = cm.ScalarMappable(norm=norm, cmap=cmap)\n",
        "\n",
        "    def word2Color(word):\n",
        "        rgb = scalarMap.to_rgba(word2Attr[word])[:-1]\n",
        "        code = round(255 * rgb[0]) * 256**2 + round(255 * rgb[1]) * 256 + round(255 * rgb[2])\n",
        "        return 'background-color: #%s' % (hex(code)[2:])\n",
        "\n",
        "    df = df.T\n",
        "    return df.style.hide_index().hide_columns().applymap(lambda word: word2Color(word))\n",
        "    # ========== ^ Your Code Here ^ ========== #"
      ],
      "metadata": {
        "id": "liIQb6LQEHxJ"
      },
      "execution_count": 18,
      "outputs": []
    },
    {
      "cell_type": "markdown",
      "source": [
        "Now we want to visualize the saliency maps for the tokens."
      ],
      "metadata": {
        "id": "faakqScO8Gqq"
      }
    },
    {
      "cell_type": "code",
      "source": [
        "visualize(tokenizer.tokenize(sentences[0]), saliency_maps[0])"
      ],
      "metadata": {
        "id": "hVd2lZp0nMrJ",
        "colab": {
          "base_uri": "https://localhost:8080/",
          "height": 48
        },
        "outputId": "401bc088-a34f-4231-e825-b103e6af1021"
      },
      "execution_count": 19,
      "outputs": [
        {
          "output_type": "execute_result",
          "data": {
            "text/plain": [
              "<pandas.io.formats.style.Styler at 0x7f3b37fe5450>"
            ],
            "text/html": [
              "<style type=\"text/css\">\n",
              "#T_dc2a5_row0_col0 {\n",
              "  background-color: #440154;\n",
              "}\n",
              "#T_dc2a5_row0_col1 {\n",
              "  background-color: #297a8e;\n",
              "}\n",
              "#T_dc2a5_row0_col2 {\n",
              "  background-color: #3f4788;\n",
              "}\n",
              "#T_dc2a5_row0_col3 {\n",
              "  background-color: #38598c;\n",
              "}\n",
              "#T_dc2a5_row0_col4, #T_dc2a5_row0_col6 {\n",
              "  background-color: #2d708e;\n",
              "}\n",
              "#T_dc2a5_row0_col5 {\n",
              "  background-color: #38588c;\n",
              "}\n",
              "#T_dc2a5_row0_col7 {\n",
              "  background-color: #34608d;\n",
              "}\n",
              "#T_dc2a5_row0_col8 {\n",
              "  background-color: #90d743;\n",
              "}\n",
              "</style>\n",
              "<table id=\"T_dc2a5_\" class=\"dataframe\">\n",
              "  <thead>\n",
              "  </thead>\n",
              "  <tbody>\n",
              "    <tr>\n",
              "      <td id=\"T_dc2a5_row0_col0\" class=\"data row0 col0\" >▁A</td>\n",
              "      <td id=\"T_dc2a5_row0_col1\" class=\"data row0 col1\" >▁meteor</td>\n",
              "      <td id=\"T_dc2a5_row0_col2\" class=\"data row0 col2\" >▁hit</td>\n",
              "      <td id=\"T_dc2a5_row0_col3\" class=\"data row0 col3\" >▁the</td>\n",
              "      <td id=\"T_dc2a5_row0_col4\" class=\"data row0 col4\" >▁Earth</td>\n",
              "      <td id=\"T_dc2a5_row0_col5\" class=\"data row0 col5\" >▁and</td>\n",
              "      <td id=\"T_dc2a5_row0_col6\" class=\"data row0 col6\" >▁Earth</td>\n",
              "      <td id=\"T_dc2a5_row0_col7\" class=\"data row0 col7\" >▁exploded</td>\n",
              "      <td id=\"T_dc2a5_row0_col8\" class=\"data row0 col8\" >.</td>\n",
              "    </tr>\n",
              "  </tbody>\n",
              "</table>\n"
            ]
          },
          "metadata": {},
          "execution_count": 19
        }
      ]
    },
    {
      "cell_type": "markdown",
      "source": [
        "# Inconsitencies or Model Failures"
      ],
      "metadata": {
        "id": "AOJyzKWWkvCF"
      }
    },
    {
      "cell_type": "markdown",
      "source": [
        "### Inconsistency with Scope Intensity\n",
        "You should expect some monotonic behaviour with some things.  The model however expresses odd behavior that isn't monotonic in its outputs."
      ],
      "metadata": {
        "id": "wdQh1wOZAuJX"
      }
    },
    {
      "cell_type": "code",
      "source": [
        "sentence = 'I saved x people'\n",
        "\n",
        "input_sents = [sentence.replace('x', str(i)) for i in np.arange(1, 100, 1)]\n",
        "input_ids, input_mask, _ = tokenize_sentences(tokenizer=tokenizer, sentences=input_sents, max_length=max_length)\n",
        "\n",
        "with torch.no_grad():\n",
        "    output_utils = util_model(input_ids, attention_mask=input_mask)[0]\n",
        "\n",
        "plt.plot(np.arange(1, 100), output_utils)\n",
        "plt.xlabel('Number of people')\n",
        "plt.ylabel('Utility score')\n",
        "plt.show()"
      ],
      "metadata": {
        "id": "n5phSNk69ocx",
        "colab": {
          "base_uri": "https://localhost:8080/",
          "height": 282
        },
        "outputId": "35d20925-b3df-4483-bb7b-4775ae1ce3b8"
      },
      "execution_count": 20,
      "outputs": [
        {
          "output_type": "display_data",
          "data": {
            "text/plain": [
              "<Figure size 432x288 with 1 Axes>"
            ],
            "image/png": "[encoded data removed]"
          },
          "metadata": {
            "needs_background": "light"
          }
        }
      ]
    },
    {
      "cell_type": "markdown",
      "source": [
        "### Framing the problem\n",
        "Even if two sentences express the same idea or concept they can have very different utilities which is not a useful property if we want the model to reflect the true utility."
      ],
      "metadata": {
        "id": "y7VrkISpAso1"
      }
    },
    {
      "cell_type": "code",
      "source": [
        "sentences = ['I performed surgery on a patient with a 50% chance of success.',\n",
        "             'I performed surgery on a patient with a 50% chance of failure.']\n",
        "\n",
        "input_ids, input_mask, _ = tokenize_sentences(tokenizer=tokenizer, sentences=input_sents, max_length=max_length)\n",
        "with torch.no_grad():\n",
        "    output_utils = util_model(input_ids, attention_mask=input_mask)[0]\n",
        "\n",
        "print_utility(sentences, output_utils)"
      ],
      "metadata": {
        "id": "B9QZL8Eb1cEx",
        "colab": {
          "base_uri": "https://localhost:8080/"
        },
        "outputId": "cfa23f67-5f37-4371-f898-9ebac193ef76"
      },
      "execution_count": 21,
      "outputs": [
        {
          "output_type": "stream",
          "name": "stdout",
          "text": [
            "\"I performed surgery on a patient with a 50% chance of success.\" has utility tensor([2.7511])\n",
            "\"I performed surgery on a patient with a 50% chance of failure.\" has utility tensor([4.4566])\n"
          ]
        }
      ]
    },
    {
      "cell_type": "markdown",
      "source": [
        "### Inconsistencies in utility functions: Distracted by noise"
      ],
      "metadata": {
        "id": "ORKlW8RH3jZx"
      }
    },
    {
      "cell_type": "code",
      "source": [
        "sentences = ['I won $100,000.', 'I won $101,101.']\n",
        "\n",
        "input_ids, input_mask, _ = tokenize_sentences(tokenizer=tokenizer, sentences=input_sents, max_length=max_length)\n",
        "with torch.no_grad():\n",
        "    output_utils = util_model(input_ids, attention_mask=input_mask)[0]\n",
        "\n",
        "print_utility(sentences, output_utils)"
      ],
      "metadata": {
        "id": "J2tQ-YoV3rV_",
        "colab": {
          "base_uri": "https://localhost:8080/"
        },
        "outputId": "bc14b7f6-b280-4d2b-fc1e-652a99b06b48"
      },
      "execution_count": 22,
      "outputs": [
        {
          "output_type": "stream",
          "name": "stdout",
          "text": [
            "\"I won $100,000.\" has utility tensor([2.7511])\n",
            "\"I won $101,101.\" has utility tensor([4.4566])\n"
          ]
        }
      ]
    },
    {
      "cell_type": "markdown",
      "source": [
        "## Bias\n",
        "The utility function might also present bias that is similar to what humans might have."
      ],
      "metadata": {
        "id": "5Ow6CFh_8fme"
      }
    },
    {
      "cell_type": "markdown",
      "source": [
        "**Gender/Age**"
      ],
      "metadata": {
        "id": "hWNIyFAWBYP_"
      }
    },
    {
      "cell_type": "code",
      "source": [
        "sentence = 'I saved 1,000,000 [MASK]\\'s lives today'\n",
        "\n",
        "input_sents = [sentence.replace('[MASK]', s) for s in ['children', 'women', 'men']]\n",
        "input_ids, input_mask, _ = tokenize_sentences(tokenizer=tokenizer, sentences=input_sents, max_length=max_length)\n",
        "\n",
        "with torch.no_grad():\n",
        "    output_utils = util_model(input_ids, attention_mask=input_mask)[0]\n",
        "\n",
        "plt.bar(range(3), output_utils, tick_label=['children', 'women', 'men'])\n",
        "plt.ylabel('Utility score')\n",
        "plt.show()"
      ],
      "metadata": {
        "id": "fo86x0y68sBv",
        "colab": {
          "base_uri": "https://localhost:8080/",
          "height": 354
        },
        "outputId": "ad01fce6-884f-44a4-ece0-c930fbdb7482"
      },
      "execution_count": 23,
      "outputs": [
        {
          "output_type": "stream",
          "name": "stderr",
          "text": [
            "/usr/local/lib/python3.7/dist-packages/numpy/lib/stride_tricks.py:536: FutureWarning: The input object of type 'Tensor' is an array-like implementing one of the corresponding protocols (`__array__`, `__array_interface__` or `__array_struct__`); but not a sequence (or 0-D). In the future, this object will be coerced as if it was first converted using `np.array(obj)`. To retain the old behaviour, you have to either modify the type 'Tensor', or assign to an empty array created with `np.empty(correct_shape, dtype=object)`.\n",
            "  args = [np.array(_m, copy=False, subok=subok) for _m in args]\n",
            "/usr/local/lib/python3.7/dist-packages/numpy/lib/stride_tricks.py:536: VisibleDeprecationWarning: Creating an ndarray from ragged nested sequences (which is a list-or-tuple of lists-or-tuples-or ndarrays with different lengths or shapes) is deprecated. If you meant to do this, you must specify 'dtype=object' when creating the ndarray.\n",
            "  args = [np.array(_m, copy=False, subok=subok) for _m in args]\n"
          ]
        },
        {
          "output_type": "display_data",
          "data": {
            "text/plain": [
              "<Figure size 432x288 with 1 Axes>"
            ],
            "image/png": "[encoded data removed]"
          },
          "metadata": {
            "needs_background": "light"
          }
        }
      ]
    },
    {
      "cell_type": "markdown",
      "source": [
        "**Race/Gender**"
      ],
      "metadata": {
        "id": "o6jrt4b7BcpW"
      }
    },
    {
      "cell_type": "code",
      "source": [
        "def gender_bias(isMan: bool):\n",
        "    gender = 'man' if isMan else 'woman'\n",
        "    indent = 0 if isMan else 1\n",
        "\n",
        "    race = ['Black', 'White', 'Asian', 'Hispanic']\n",
        "\n",
        "    sentence = f'[MASK] {gender} dies.'\n",
        "\n",
        "    input_sents = [sentence.replace('[MASK]', s) for s in race]\n",
        "    input_ids, input_mask, _ = tokenize_sentences(tokenizer=tokenizer, sentences=input_sents, max_length=max_length)\n",
        "\n",
        "    with torch.no_grad():\n",
        "        output_utils = util_model(input_ids, attention_mask=input_mask)[0]\n",
        "\n",
        "    bar_width = 0.35\n",
        "\n",
        "    plt.bar(np.arange(len(race)) + bar_width * indent, output_utils, bar_width, tick_label=race, label=gender)\n",
        "    plt.ylabel('Utility score')\n",
        "\n",
        "gender_bias(True)\n",
        "gender_bias(False)\n",
        "plt.legend()\n",
        "plt.show()"
      ],
      "metadata": {
        "id": "3Lu8RvCR-7I1",
        "colab": {
          "base_uri": "https://localhost:8080/",
          "height": 269
        },
        "outputId": "ed258ea3-4ac5-4cf3-802f-054d7b38aa5d"
      },
      "execution_count": 24,
      "outputs": [
        {
          "output_type": "display_data",
          "data": {
            "text/plain": [
              "<Figure size 432x288 with 1 Axes>"
            ],
            "image/png": "[encoded data removed]"
          },
          "metadata": {
            "needs_background": "light"
          }
        }
      ]
    },
    {
      "cell_type": "markdown",
      "source": [
        "### TODO by you\n",
        "For the final part assignment we encourage you to explore the model and find at least two other inconsistencies and do a short write up of the inconsistency.   \n",
        "\n",
        "*  Why is it an inconsistency or model failure?\n",
        "*  What should the model output instead?\n",
        "*  What is the pattern of failures?\n",
        "*  Is the failure itself consistent or inconsistent?"
      ],
      "metadata": {
        "id": "gHRBGIhqB9ny"
      }
    },
    {
      "cell_type": "markdown",
      "source": [
        "### Has strong opinions on colors/food.\n",
        "The model should be pretty consistent in its outputs, but it picks up on our cultural biases. It's even more extreme when you change the sentence to \"He painted the wall <color>,\" but I figured the model was correct giving negative utilities to most of the colors so I used these examples instead.\n",
        "\n",
        "The failure is inconsistent"
      ],
      "metadata": {
        "id": "MhOlGQeGIMiB"
      }
    },
    {
      "cell_type": "code",
      "source": [
        "sentence = \"He bought a <color> shirt.\"\n",
        "colors = [\"white\", \"red\", \"orange\", \"yellow\", \"green\", \"blue\", \"indigo\", \"violet\", \"black\"]\n",
        "\n",
        "input_sents = [sentence.replace(\"<color>\", color) for color in colors]\n",
        "input_ids, input_mask, _ = tokenize_sentences(tokenizer=tokenizer, sentences=input_sents, max_length=max_length)\n",
        "\n",
        "with torch.no_grad():\n",
        "    utils = util_model(input_ids, attention_mask=input_mask)[0]\n",
        "\n",
        "bar_width = 0.35\n",
        "plt.bar(np.arange(len(colors)), utils, bar_width, tick_label=colors)\n",
        "plt.ylabel('Utility score')\n",
        "plt.title(sentence)\n",
        "plt.show();"
      ],
      "metadata": {
        "id": "vjQ6iyEoCAaD",
        "colab": {
          "base_uri": "https://localhost:8080/",
          "height": 281
        },
        "outputId": "13388752-93a8-4677-9714-bbf624310a6a"
      },
      "execution_count": 25,
      "outputs": [
        {
          "output_type": "display_data",
          "data": {
            "text/plain": [
              "<Figure size 432x288 with 1 Axes>"
            ],
            "image/png": "[encoded data removed]"
          },
          "metadata": {
            "needs_background": "light"
          }
        }
      ]
    },
    {
      "cell_type": "code",
      "source": [
        "sentence = \"He ate <type> pizza.\"\n",
        "types = [\"cheese\", \"pepperoni\", \"pineapple\", \"BBQ\", \"veggie\", \"Hawaiian\", \"buffalo\"]\n",
        "\n",
        "input_sents = [sentence.replace(\"<type>\", t) for t in types]\n",
        "input_ids, input_mask, _ = tokenize_sentences(tokenizer=tokenizer, sentences=input_sents, max_length=max_length)\n",
        "\n",
        "with torch.no_grad():\n",
        "    utils = util_model(input_ids, attention_mask=input_mask)[0]\n",
        "\n",
        "bar_width = 0.35\n",
        "plt.bar(np.arange(len(types)), utils, bar_width, tick_label=types)\n",
        "plt.xticks(rotation=90)\n",
        "plt.ylabel('Utility score')\n",
        "plt.title(sentence)\n",
        "plt.show();"
      ],
      "metadata": {
        "colab": {
          "base_uri": "https://localhost:8080/",
          "height": 321
        },
        "id": "Oyj2rtvqIFGd",
        "outputId": "20374025-2bde-409b-86d6-1ce5b9fbff6c"
      },
      "execution_count": 26,
      "outputs": [
        {
          "output_type": "display_data",
          "data": {
            "text/plain": [
              "<Figure size 432x288 with 1 Axes>"
            ],
            "image/png": "[encoded data removed]"
          },
          "metadata": {
            "needs_background": "light"
          }
        }
      ]
    },
    {
      "cell_type": "markdown",
      "source": [
        "### Year of Birth\n",
        "\n",
        "There is a large drop off in utility for dates in the future. It makes sense for the utility to increase/decrease slowly up to the present day (as present events should effect utility more), but future events should not drop so suddenly in utility in this consistent manner."
      ],
      "metadata": {
        "id": "IBqwkHwzMN3k"
      }
    },
    {
      "cell_type": "code",
      "source": [
        "sentence = \"They were born in <yr>.\"\n",
        "yrs = [*range(1980, 2040)]\n",
        "\n",
        "input_sents = [sentence.replace(\"<yr>\", str(i)) for i in yrs]\n",
        "input_ids, input_mask, _ = tokenize_sentences(tokenizer=tokenizer, sentences=input_sents, max_length=max_length)\n",
        "\n",
        "with torch.no_grad():\n",
        "    utils = util_model(input_ids, attention_mask=input_mask)[0]\n",
        "\n",
        "plt.title(sentence)\n",
        "plt.plot(yrs, utils)\n",
        "plt.xlabel('Year')\n",
        "plt.ylabel('Utility score')\n",
        "plt.show()"
      ],
      "metadata": {
        "colab": {
          "base_uri": "https://localhost:8080/",
          "height": 295
        },
        "id": "QHvNIX1lLD9V",
        "outputId": "41d6a942-105b-4af6-b90a-b9adbfe6dda0"
      },
      "execution_count": 27,
      "outputs": [
        {
          "output_type": "display_data",
          "data": {
            "text/plain": [
              "<Figure size 432x288 with 1 Axes>"
            ],
            "image/png": "[encoded data removed]"
          },
          "metadata": {
            "needs_background": "light"
          }
        }
      ]
    },
    {
      "cell_type": "code",
      "source": [
        "sentence = \"He got a job in <yr>.\"\n",
        "yrs = [*range(1980, 2040)]\n",
        "\n",
        "input_sents = [sentence.replace(\"<yr>\", str(i)) for i in yrs]\n",
        "input_ids, input_mask, _ = tokenize_sentences(tokenizer=tokenizer, sentences=input_sents, max_length=max_length)\n",
        "\n",
        "with torch.no_grad():\n",
        "    utils = util_model(input_ids, attention_mask=input_mask)[0]\n",
        "\n",
        "plt.title(sentence)\n",
        "plt.plot(yrs, utils)\n",
        "plt.xlabel('Year')\n",
        "plt.ylabel('Utility score')\n",
        "plt.show()"
      ],
      "metadata": {
        "colab": {
          "base_uri": "https://localhost:8080/",
          "height": 295
        },
        "id": "osr-8rNxMh-T",
        "outputId": "5502ac61-71cc-4de6-fabb-35a178a923d8"
      },
      "execution_count": 28,
      "outputs": [
        {
          "output_type": "display_data",
          "data": {
            "text/plain": [
              "<Figure size 432x288 with 1 Axes>"
            ],
            "image/png": "[encoded data removed]"
          },
          "metadata": {
            "needs_background": "light"
          }
        }
      ]
    },
    {
      "cell_type": "code",
      "source": [
        "sentence = \"He got married in <yr>.\"\n",
        "yrs = [*range(1980, 2040)]\n",
        "\n",
        "input_sents = [sentence.replace(\"<yr>\", str(i)) for i in yrs]\n",
        "input_ids, input_mask, _ = tokenize_sentences(tokenizer=tokenizer, sentences=input_sents, max_length=max_length)\n",
        "\n",
        "with torch.no_grad():\n",
        "    utils = util_model(input_ids, attention_mask=input_mask)[0]\n",
        "\n",
        "plt.title(sentence)\n",
        "plt.plot(yrs, utils)\n",
        "plt.xlabel('Year')\n",
        "plt.ylabel('Utility score')\n",
        "plt.show()"
      ],
      "metadata": {
        "colab": {
          "base_uri": "https://localhost:8080/",
          "height": 295
        },
        "id": "gBcUzI9LPrNZ",
        "outputId": "02d24bb1-85e9-4b72-a5a0-2af2f69f47be"
      },
      "execution_count": 29,
      "outputs": [
        {
          "output_type": "display_data",
          "data": {
            "text/plain": [
              "<Figure size 432x288 with 1 Axes>"
            ],
            "image/png": "[encoded data removed]"
          },
          "metadata": {
            "needs_background": "light"
          }
        }
      ]
    },
    {
      "cell_type": "code",
      "source": [
        "sentence = \"He died in <yr>.\"\n",
        "yrs = [*range(1980, 2040)]\n",
        "\n",
        "input_sents = [sentence.replace(\"<yr>\", str(i)) for i in yrs]\n",
        "input_ids, input_mask, _ = tokenize_sentences(tokenizer=tokenizer, sentences=input_sents, max_length=max_length)\n",
        "\n",
        "with torch.no_grad():\n",
        "    utils = util_model(input_ids, attention_mask=input_mask)[0]\n",
        "\n",
        "plt.title(sentence)\n",
        "plt.plot(yrs, utils)\n",
        "plt.xlabel('Year')\n",
        "plt.ylabel('Utility score')\n",
        "plt.show()"
      ],
      "metadata": {
        "colab": {
          "base_uri": "https://localhost:8080/",
          "height": 295
        },
        "id": "GPtU5UxvPuHO",
        "outputId": "39ca8f11-7ff5-40fb-9ea2-f1e75b59283c"
      },
      "execution_count": 30,
      "outputs": [
        {
          "output_type": "display_data",
          "data": {
            "text/plain": [
              "<Figure size 432x288 with 1 Axes>"
            ],
            "image/png": "[encoded data removed]"
          },
          "metadata": {
            "needs_background": "light"
          }
        }
      ]
    },
    {
      "cell_type": "code",
      "source": [
        ""
      ],
      "metadata": {
        "id": "bUGC5HPtP2Od"
      },
      "execution_count": 30,
      "outputs": []
    }
  ],
  "metadata": {
    "kernelspec": {
      "display_name": "Python 3.10.4 64-bit",
      "language": "python",
      "name": "python3"
    },
    "language_info": {
      "codemirror_mode": {
        "name": "ipython",
        "version": 3
      },
      "file_extension": ".py",
      "mimetype": "text/x-python",
      "name": "python",
      "nbconvert_exporter": "python",
      "pygments_lexer": "ipython3",
      "version": "3.10.4"
    },
    "orig_nbformat": 4,
    "vscode": {
      "interpreter": {
        "hash": "cc399ae3238e7e2b9df4cb4d941c58691817fcd4bfd0162c66e7719068f793de"
      }
    },
    "colab": {
      "name": "Utilities_and_Heatmaps_NLP_hw.ipynb",
      "provenance": [],
      "collapsed_sections": []
    },
    "accelerator": "GPU",
    "gpuClass": "standard"
  },
  "nbformat": 4,
  "nbformat_minor": 0
}